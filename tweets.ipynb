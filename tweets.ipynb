{
 "metadata": {
  "name": ""
 },
 "nbformat": 3,
 "nbformat_minor": 0,
 "worksheets": [
  {
   "cells": [
    {
     "cell_type": "code",
     "collapsed": false,
     "input": [
      "import gzip\n",
      "import json\n",
      "import pandas as pd\n",
      "import glob\n",
      "\n",
      "filename = \"tweets.politicians.json.20130926-1380166501.gz\"\n",
      "tweets = pd.Series([line for line in gzip.open(filename) if line.strip()]).apply(json.loads)\n",
      "data = pd.DataFrame(columns=('username', 'location', 'name'))"
     ],
     "language": "python",
     "metadata": {},
     "outputs": [],
     "prompt_number": 2
    },
    {
     "cell_type": "code",
     "collapsed": false,
     "input": [
      "for T in tweets:\n",
      "    for m in (T['entities']['user_mentions']):\n",
      "        if m['screen_name'] == 'narendramodi':\n",
      "            sname = T['user']['screen_name']\n",
      "            location = T['user']['location']\n",
      "            name = T['user']['name']\n",
      "            #text = T['text']\n",
      "            row = pd.DataFrame([dict(username=sname, location=location, name=name)])\n",
      "            data = data.append(row, ignore_index=True)\n",
      "            break"
     ],
     "language": "python",
     "metadata": {},
     "outputs": [],
     "prompt_number": 3
    },
    {
     "cell_type": "code",
     "collapsed": false,
     "input": [
      "data.to_csv(\"tweets_modi.csv\", encoding='utf-8')"
     ],
     "language": "python",
     "metadata": {},
     "outputs": [],
     "prompt_number": 4
    },
    {
     "cell_type": "code",
     "collapsed": false,
     "input": [],
     "language": "python",
     "metadata": {},
     "outputs": []
    }
   ],
   "metadata": {}
  }
 ]
}